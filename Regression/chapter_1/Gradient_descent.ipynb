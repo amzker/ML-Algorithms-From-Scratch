{
  "nbformat": 4,
  "nbformat_minor": 0,
  "metadata": {
    "colab": {
      "provenance": [],
      "collapsed_sections": [
        "bUly_kZSpMAQ",
        "I-3utZe7aseS",
        "GlJkzwZHd6eJ",
        "P9isI1UGenlI"
      ],
      "authorship_tag": "ABX9TyPssS3LYSG82+g9KCe2zRl2",
      "include_colab_link": true
    },
    "kernelspec": {
      "name": "python3",
      "display_name": "Python 3"
    },
    "language_info": {
      "name": "python"
    }
  },
  "cells": [
    {
      "cell_type": "markdown",
      "metadata": {
        "id": "view-in-github",
        "colab_type": "text"
      },
      "source": [
        "<a href=\"https://colab.research.google.com/github/amzker/ML-Algorithms-From-Scratch/blob/main/Regression/chapter_1/Gradient_descent.ipynb\" target=\"_parent\"><img src=\"https://colab.research.google.com/assets/colab-badge.svg\" alt=\"Open In Colab\"/></a>"
      ]
    },
    {
      "cell_type": "markdown",
      "source": [
        "# DATAPREP\n",
        "\n",
        "WE WILL USE SAME DATASET AS BEFORE BUT YOU SHOULD USE DIFFERENT DATASET\n"
      ],
      "metadata": {
        "id": "bUly_kZSpMAQ"
      }
    },
    {
      "cell_type": "code",
      "execution_count": 2,
      "metadata": {
        "id": "2M_jffOlmA5b",
        "colab": {
          "base_uri": "https://localhost:8080/"
        },
        "outputId": "5aa39fa4-0025-4910-a6c0-a0a725113ceb"
      },
      "outputs": [
        {
          "output_type": "stream",
          "name": "stdout",
          "text": [
            "Looking in indexes: https://pypi.org/simple, https://us-python.pkg.dev/colab-wheels/public/simple/\n",
            "Collecting snoop\n",
            "  Downloading snoop-0.4.3-py2.py3-none-any.whl (27 kB)\n",
            "Collecting cheap-repr>=0.4.0\n",
            "  Downloading cheap_repr-0.5.1-py2.py3-none-any.whl (12 kB)\n",
            "Requirement already satisfied: six in /usr/local/lib/python3.9/dist-packages (from snoop) (1.16.0)\n",
            "Collecting executing\n",
            "  Downloading executing-1.2.0-py2.py3-none-any.whl (24 kB)\n",
            "Requirement already satisfied: pygments in /usr/local/lib/python3.9/dist-packages (from snoop) (2.14.0)\n",
            "Collecting asttokens\n",
            "  Downloading asttokens-2.2.1-py2.py3-none-any.whl (26 kB)\n",
            "Installing collected packages: executing, cheap-repr, asttokens, snoop\n",
            "Successfully installed asttokens-2.2.1 cheap-repr-0.5.1 executing-1.2.0 snoop-0.4.3\n"
          ]
        }
      ],
      "source": [
        "import numpy as np\n",
        "!pip install snoop\n",
        "import snoop\n",
        "import pandas as pd\n",
        "snoop.install()\n",
        "\n",
        "\n",
        "# Snoop is good debugger, you will need it to check your calculations, and it saves time a lot "
      ]
    },
    {
      "cell_type": "code",
      "source": [
        "from sklearn.preprocessing import StandardScaler\n",
        "sc=StandardScaler()\n",
        "\n",
        "# i am using standerd scaler. what it does is that x - meanx/std thus makes our dataset to have variance of 1\n",
        "# which is helpful in case of gradeint calculations. YOU SHOULD DO IT MANUALLY \n",
        "# I WAS IN HURRY FOR TESTING THE CODE SO DIDNT BOTHER MUCH: FORMULA FOR SCALE = (X - X.mean())/X.STD(), TRY IT USING NP.MEAN AND NP.STD ALSO \n",
        "\n",
        "data = pd.read_csv(\"https://raw.githubusercontent.com/amzker/ML-Algorithms-From-Scratch/main/Regression/chapter_0/datasets/MLinear.csv\")\n",
        "\n",
        "# DATA FOR SIMPLE LINEAR REGRESSION\n",
        "sy = data[\"Number of weekly drivers\"]\n",
        "sx = data[\"Population of city\"]\n",
        "sy = np.asarray(sy).reshape(-1,1)\n",
        "sx = np.asarray(sx).reshape(-1,1)\n",
        "sx = sc.fit_transform(sx)\n",
        "# DATA FOR MULTIPLE LINEAR REGRESSION\n",
        "y = data[\"Number of weekly drivers\"]\n",
        "X = data.drop(columns=[\"Number of weekly drivers\",\"City \"])\n",
        "y = np.asarray(y).flatten()\n",
        "X = np.asarray(X)\n",
        "X = sc.fit_transform(X)\n",
        "# DATA FOR MULTI TARGET REGRESSION\n",
        "yy = data[[\"Number of weekly drivers\",\"Population of city\"]]\n",
        "XX = data.drop(columns=[\"Number of weekly drivers\",\"City \",\"Population of city\"])\n",
        "yy = np.asarray(yy)\n",
        "XX = np.asarray(XX)\n",
        "XX = sc.fit_transform(XX)"
      ],
      "metadata": {
        "id": "wLKcTGSOVQGG"
      },
      "execution_count": 3,
      "outputs": []
    },
    {
      "cell_type": "markdown",
      "source": [
        "# Simple Linear Regression\n",
        "\n",
        "$$ dm = -2 \\sum x_i(y_i - mx_i- c)/N$$\n",
        "$$$$\n",
        "$$N = len(x)$$\n",
        "\n",
        "\n",
        "\n"
      ],
      "metadata": {
        "id": "I-3utZe7aseS"
      }
    },
    {
      "cell_type": "code",
      "source": [
        "class LinGD:\n",
        "  def __init__(self):\n",
        "    self.b = None\n",
        "    self.c = None\n",
        "    self.mse = None\n",
        "    self.count = None\n",
        "  def fit(self,X,y,lr,ep):\n",
        "    self.b = 0\n",
        "    self.c = 0\n",
        "    self.count = 0\n",
        "    for i in range(ep):\n",
        "      pred = np.dot(self.b,X) + self.c\n",
        "      error = y - pred\n",
        "      db = ((-2)/len(X)) * np.sum(X*error)\n",
        "      self.b -= lr* db\n",
        "      self.c -= -2 *lr* np.mean(error)\n",
        "      if self.mse == np.mean(error*error):\n",
        "        self.count += 1\n",
        "      if self.count >4:\n",
        "        print(\"Converged at: EPOCH: \",i,self.__dict__)\n",
        "        break\n",
        "      self.mse = np.mean(error*error)\n",
        "      #print(\"EPOCH:\",i,self.__dict__)\n",
        "lng = LinGD()\n",
        "lng.fit(sx,sy,0.01,1000)"
      ],
      "metadata": {
        "colab": {
          "base_uri": "https://localhost:8080/"
        },
        "id": "0kl1G9aor-cN",
        "outputId": "ed62d07c-755c-4e10-e0e3-eb8b303cae40"
      },
      "execution_count": 4,
      "outputs": [
        {
          "output_type": "stream",
          "name": "stdout",
          "text": [
            "Converged at: EPOCH:  954 {'b': 18761.727554062003, 'c': 160026.073405587, 'mse': 84929257.8704093, 'count': 5}\n"
          ]
        }
      ]
    },
    {
      "cell_type": "code",
      "source": [
        "from sklearn.linear_model import LinearRegression\n",
        "skl = LinearRegression()\n",
        "skl.fit(sx,sy)\n",
        "skl.__dict__"
      ],
      "metadata": {
        "colab": {
          "base_uri": "https://localhost:8080/"
        },
        "id": "mYtV9uITZ-Y2",
        "outputId": "2c204991-60f1-46ca-ce98-b5c42d8f0c63"
      },
      "execution_count": 38,
      "outputs": [
        {
          "output_type": "execute_result",
          "data": {
            "text/plain": [
              "{'fit_intercept': True,\n",
              " 'copy_X': True,\n",
              " 'n_jobs': None,\n",
              " 'positive': False,\n",
              " 'n_features_in_': 1,\n",
              " 'coef_': array([[18761.72763244]]),\n",
              " 'rank_': 1,\n",
              " 'singular_': array([5.19615242]),\n",
              " 'intercept_': array([160026.07407407])}"
            ]
          },
          "metadata": {},
          "execution_count": 38
        }
      ]
    },
    {
      "cell_type": "markdown",
      "source": [
        "# Multi Linear Regression \n",
        "\n",
        "$$ db = -2 \\sum X^T_i(Y_i - βX_i)/N $$\n"
      ],
      "metadata": {
        "id": "GlJkzwZHd6eJ"
      }
    },
    {
      "cell_type": "code",
      "source": [
        "class MDS:\n",
        "  def __init__(self):\n",
        "    self.beta = 0\n",
        "  \n",
        "\n",
        "  def fit(self,X,y,lr,ep):\n",
        "    X = np.insert(np.array(X), 0, 1, axis=1) #array,posotion,value to add,axis\n",
        "    beta = np.ones(X.shape[1])\n",
        "    #print(self.beta)\n",
        "    for i in range(ep):\n",
        "        pred = X.dot(beta)\n",
        "        error = y- pred\n",
        "        db = (-2)/len(X) * np.dot(X.T,error)\n",
        "        beta = beta - lr*db\n",
        "        self.beta = beta[1:]\n",
        "        self.c = beta[0]\n"
      ],
      "metadata": {
        "colab": {
          "base_uri": "https://localhost:8080/"
        },
        "id": "LaFdGRj4nucE",
        "outputId": "5cbdd9f9-b117-42d5-c231-d77eaf513de3"
      },
      "execution_count": 74,
      "outputs": [
        {
          "output_type": "execute_result",
          "data": {
            "text/plain": [
              "{'beta': array([-18671.59902574,   3885.28510309,  -4068.21612221,   6694.34632891]),\n",
              " 'c': 160026.07407407396}"
            ]
          },
          "metadata": {},
          "execution_count": 74
        }
      ]
    },
    {
      "cell_type": "code",
      "source": [
        "ms = MDS()\n",
        "ms.fit(X,y,0.05,1000)\n",
        "ms.__dict__"
      ],
      "metadata": {
        "colab": {
          "base_uri": "https://localhost:8080/"
        },
        "id": "gAVNjFubxuVH",
        "outputId": "135f6f12-1501-4089-d73d-63bf6c4ee90d"
      },
      "execution_count": 54,
      "outputs": [
        {
          "output_type": "execute_result",
          "data": {
            "text/plain": [
              "{'beta': array([ 1.02131280e+142, -1.06283629e+142,  1.06606418e+142,\n",
              "         1.03788534e+142]),\n",
              " 'c': -5.547962430630156e+126}"
            ]
          },
          "metadata": {},
          "execution_count": 54
        }
      ]
    },
    {
      "cell_type": "code",
      "source": [
        "from sklearn.linear_model import LinearRegression\n",
        "mm = LinearRegression()\n",
        "mm.fit(X,y)\n",
        "mm.__dict__"
      ],
      "metadata": {
        "id": "F9qyEz8EnVLv",
        "colab": {
          "base_uri": "https://localhost:8080/"
        },
        "outputId": "9bbec6a8-a308-4f9e-b43f-a9f608e91084"
      },
      "execution_count": 343,
      "outputs": [
        {
          "output_type": "execute_result",
          "data": {
            "text/plain": [
              "{'fit_intercept': True,\n",
              " 'copy_X': True,\n",
              " 'n_jobs': None,\n",
              " 'positive': False,\n",
              " 'n_features_in_': 4,\n",
              " 'coef_': array([-18693.97136508,   3655.55168543,  -4363.17091585,   6784.06807352]),\n",
              " 'rank_': 4,\n",
              " 'singular_': array([10.06339977,  2.07311856,  1.34571229,  0.78690713]),\n",
              " 'intercept_': 160026.07407407407}"
            ]
          },
          "metadata": {},
          "execution_count": 343
        }
      ]
    },
    {
      "cell_type": "markdown",
      "source": [
        "# Multi Target Linear Regression\n",
        "\n",
        "$$ db = -2 \\sum X^T_i(Y_i - βX_i- C)/N $$\n",
        "\n",
        "$$$$\n",
        "$$ dc = -2 \\sum (Y_i - βX_i- C)/N$$\n",
        "\n",
        "note:we will need separate Cs because they are going to be equal to number of ys"
      ],
      "metadata": {
        "id": "P9isI1UGenlI"
      }
    },
    {
      "cell_type": "code",
      "source": [
        "class MDSs:\n",
        "  def __init__(self):\n",
        "    self.beta = None\n",
        "    self.c = None\n",
        "\n",
        "  def fit(self, X, y, lr=0.01, epochs=100):\n",
        "    #X = np.insert(np.array(X), 0, 1, axis=1) #? guess why i commented this one here?\n",
        "    n_samples, n_features = X.shape\n",
        "    n_outputs = y.shape[1]\n",
        "    self.beta = np.zeros((n_features, n_outputs))\n",
        "    self.c = np.zeros(n_outputs)\n",
        "    \n",
        "    for i in range(epochs):\n",
        "      pred = X.dot(self.beta) + self.c\n",
        "      error = y - pred  \n",
        "      db = -2/len(X) * X.T.dot(error)\n",
        "      dc =  (-2) * np.mean(error, axis=0)\n",
        "      self.beta = self.beta - (lr * db)\n",
        "      self.c = self.c - (lr * dc)\n",
        "    return self\n",
        "    \n",
        "  def predict(self, X):\n",
        "    return X.dot(self.beta) + self.c\n",
        "news = MDSs()\n",
        "news.fit(XX,yy,0.02,10000)\n",
        "news.__dict__"
      ],
      "metadata": {
        "colab": {
          "base_uri": "https://localhost:8080/"
        },
        "id": "6sma-3Pey20L",
        "outputId": "c32ee366-bdba-43ad-a3c0-bcffdb6f067a"
      },
      "execution_count": 100,
      "outputs": [
        {
          "output_type": "execute_result",
          "data": {
            "text/plain": [
              "{'beta': array([[-19513.88790403, -14923.50603333],\n",
              "        [ -7244.483981  , -52443.50188761],\n",
              "        [  6853.63980813,   1266.29334781]]),\n",
              " 'c': array([ 160026.07407407, 1680111.11111111])}"
            ]
          },
          "metadata": {},
          "execution_count": 100
        }
      ]
    },
    {
      "cell_type": "code",
      "source": [
        "from sklearn.linear_model import LinearRegression\n",
        "mms = LinearRegression()\n",
        "mms.fit(XX,yy)\n",
        "mms.__dict__"
      ],
      "metadata": {
        "colab": {
          "base_uri": "https://localhost:8080/"
        },
        "outputId": "32b0348a-6e0c-4e13-ace3-4d1a219b73e5",
        "id": "fdPy16iHz0Oi"
      },
      "execution_count": 97,
      "outputs": [
        {
          "output_type": "execute_result",
          "data": {
            "text/plain": [
              "{'fit_intercept': True,\n",
              " 'copy_X': True,\n",
              " 'n_jobs': None,\n",
              " 'positive': False,\n",
              " 'n_features_in_': 3,\n",
              " 'coef_': array([[-19513.8878795 ,  -7244.48407231,   6853.63987696],\n",
              "        [-14923.50586442, -52443.50251658,   1266.29382194]]),\n",
              " 'rank_': 3,\n",
              " 'singular_': array([8.68975569, 2.07256592, 1.09206985]),\n",
              " 'intercept_': array([ 160026.07407407, 1680111.11111111])}"
            ]
          },
          "metadata": {},
          "execution_count": 97
        }
      ]
    },
    {
      "cell_type": "code",
      "source": [
        "cmd = pd.DataFrame()\n",
        "cmd[[\"actual1\",\"actual2\"]] =  data[[\"Number of weekly drivers\",\"Population of city\"]]\n",
        "cmd[[\"my preds1\",\"mypred2\"]] = news.predict(XX)\n",
        "cmd[[\"SKlearn1\",\"sklearn2\"]] = mms.predict(XX)\n",
        "cmd"
      ],
      "metadata": {
        "colab": {
          "base_uri": "https://localhost:8080/",
          "height": 896
        },
        "id": "-CdA1tZK2gDZ",
        "outputId": "78741208-ad0f-4f85-ab8d-f66d9e7c4601"
      },
      "execution_count": 54,
      "outputs": [
        {
          "output_type": "execute_result",
          "data": {
            "text/plain": [
              "    actual1  actual2      my preds1       mypred2       SKlearn1      sklearn2\n",
              "0    192000  1800000  187309.848974  1.776837e+06  187752.302897  1.780040e+06\n",
              "1    190400  1790000  186642.335239  1.772063e+06  186888.001982  1.773784e+06\n",
              "2    191200  1780000  187448.909288  1.767845e+06  187996.049864  1.770940e+06\n",
              "3    177600  1778000  180122.695902  1.759933e+06  180582.323136  1.763871e+06\n",
              "4    176800  1750000  180039.256685  1.759336e+06  180474.285521  1.763089e+06\n",
              "5    178400  1740000  181129.524072  1.757147e+06  181949.661292  1.762904e+06\n",
              "6    180800  1725000  178996.258902  1.736897e+06  179219.341756  1.737707e+06\n",
              "7    175200  1725000  174749.077690  1.728764e+06  174756.215091  1.728698e+06\n",
              "8    174400  1720000  174415.320822  1.726377e+06  174324.064634  1.725569e+06\n",
              "9    173920  1705000  174317.972545  1.720687e+06  174229.862889  1.719455e+06\n",
              "10   172800  1710000  173600.395280  1.715555e+06  173300.739405  1.712729e+06\n",
              "11   163200  1700000  164872.403049  1.697617e+06  164071.980755  1.692521e+06\n",
              "12   161600  1695000  164174.292410  1.687631e+06  163199.908186  1.680775e+06\n",
              "13   161600  1695000  165434.217014  1.681663e+06  164926.802578  1.676979e+06\n",
              "14   160800  1690000  165670.625605  1.678360e+06  165264.751290  1.673993e+06\n",
              "15   159200  1630000  165620.562075  1.678002e+06  165199.928721  1.673524e+06\n",
              "16   148800  1640000  146353.821536  1.651418e+06  145433.983096  1.646936e+06\n",
              "17   115696  1635000  119850.373153  1.621466e+06  118816.508415  1.621237e+06\n",
              "18   147200  1630000  140517.266208  1.634187e+06  140076.456462  1.633022e+06\n",
              "19   150400  1620000  140182.950555  1.626803e+06  139675.427892  1.624687e+06\n",
              "20   152000  1615000  142056.429010  1.620229e+06  142228.601013  1.621439e+06\n",
              "21   136000  1605000  138282.623766  1.610488e+06  138410.249885  1.611665e+06\n",
              "22   126240  1590000  134239.560443  1.598276e+06  134482.337107  1.600326e+06\n",
              "23   123888  1595000  126454.932550  1.585996e+06  126953.203189  1.590876e+06\n",
              "24   126080  1590000  133662.687262  1.588613e+06  134006.318924  1.590675e+06\n",
              "25   151680  1600000  141865.004854  1.587811e+06  142649.967018  1.590349e+06\n",
              "26   152800  1610000  152694.647837  1.593000e+06  153834.727000  1.595212e+06"
            ],
            "text/html": [
              "\n",
              "  <div id=\"df-66e8bf11-aa97-4501-92b8-d0f10197950f\">\n",
              "    <div class=\"colab-df-container\">\n",
              "      <div>\n",
              "<style scoped>\n",
              "    .dataframe tbody tr th:only-of-type {\n",
              "        vertical-align: middle;\n",
              "    }\n",
              "\n",
              "    .dataframe tbody tr th {\n",
              "        vertical-align: top;\n",
              "    }\n",
              "\n",
              "    .dataframe thead th {\n",
              "        text-align: right;\n",
              "    }\n",
              "</style>\n",
              "<table border=\"1\" class=\"dataframe\">\n",
              "  <thead>\n",
              "    <tr style=\"text-align: right;\">\n",
              "      <th></th>\n",
              "      <th>actual1</th>\n",
              "      <th>actual2</th>\n",
              "      <th>my preds1</th>\n",
              "      <th>mypred2</th>\n",
              "      <th>SKlearn1</th>\n",
              "      <th>sklearn2</th>\n",
              "    </tr>\n",
              "  </thead>\n",
              "  <tbody>\n",
              "    <tr>\n",
              "      <th>0</th>\n",
              "      <td>192000</td>\n",
              "      <td>1800000</td>\n",
              "      <td>187309.848974</td>\n",
              "      <td>1.776837e+06</td>\n",
              "      <td>187752.302897</td>\n",
              "      <td>1.780040e+06</td>\n",
              "    </tr>\n",
              "    <tr>\n",
              "      <th>1</th>\n",
              "      <td>190400</td>\n",
              "      <td>1790000</td>\n",
              "      <td>186642.335239</td>\n",
              "      <td>1.772063e+06</td>\n",
              "      <td>186888.001982</td>\n",
              "      <td>1.773784e+06</td>\n",
              "    </tr>\n",
              "    <tr>\n",
              "      <th>2</th>\n",
              "      <td>191200</td>\n",
              "      <td>1780000</td>\n",
              "      <td>187448.909288</td>\n",
              "      <td>1.767845e+06</td>\n",
              "      <td>187996.049864</td>\n",
              "      <td>1.770940e+06</td>\n",
              "    </tr>\n",
              "    <tr>\n",
              "      <th>3</th>\n",
              "      <td>177600</td>\n",
              "      <td>1778000</td>\n",
              "      <td>180122.695902</td>\n",
              "      <td>1.759933e+06</td>\n",
              "      <td>180582.323136</td>\n",
              "      <td>1.763871e+06</td>\n",
              "    </tr>\n",
              "    <tr>\n",
              "      <th>4</th>\n",
              "      <td>176800</td>\n",
              "      <td>1750000</td>\n",
              "      <td>180039.256685</td>\n",
              "      <td>1.759336e+06</td>\n",
              "      <td>180474.285521</td>\n",
              "      <td>1.763089e+06</td>\n",
              "    </tr>\n",
              "    <tr>\n",
              "      <th>5</th>\n",
              "      <td>178400</td>\n",
              "      <td>1740000</td>\n",
              "      <td>181129.524072</td>\n",
              "      <td>1.757147e+06</td>\n",
              "      <td>181949.661292</td>\n",
              "      <td>1.762904e+06</td>\n",
              "    </tr>\n",
              "    <tr>\n",
              "      <th>6</th>\n",
              "      <td>180800</td>\n",
              "      <td>1725000</td>\n",
              "      <td>178996.258902</td>\n",
              "      <td>1.736897e+06</td>\n",
              "      <td>179219.341756</td>\n",
              "      <td>1.737707e+06</td>\n",
              "    </tr>\n",
              "    <tr>\n",
              "      <th>7</th>\n",
              "      <td>175200</td>\n",
              "      <td>1725000</td>\n",
              "      <td>174749.077690</td>\n",
              "      <td>1.728764e+06</td>\n",
              "      <td>174756.215091</td>\n",
              "      <td>1.728698e+06</td>\n",
              "    </tr>\n",
              "    <tr>\n",
              "      <th>8</th>\n",
              "      <td>174400</td>\n",
              "      <td>1720000</td>\n",
              "      <td>174415.320822</td>\n",
              "      <td>1.726377e+06</td>\n",
              "      <td>174324.064634</td>\n",
              "      <td>1.725569e+06</td>\n",
              "    </tr>\n",
              "    <tr>\n",
              "      <th>9</th>\n",
              "      <td>173920</td>\n",
              "      <td>1705000</td>\n",
              "      <td>174317.972545</td>\n",
              "      <td>1.720687e+06</td>\n",
              "      <td>174229.862889</td>\n",
              "      <td>1.719455e+06</td>\n",
              "    </tr>\n",
              "    <tr>\n",
              "      <th>10</th>\n",
              "      <td>172800</td>\n",
              "      <td>1710000</td>\n",
              "      <td>173600.395280</td>\n",
              "      <td>1.715555e+06</td>\n",
              "      <td>173300.739405</td>\n",
              "      <td>1.712729e+06</td>\n",
              "    </tr>\n",
              "    <tr>\n",
              "      <th>11</th>\n",
              "      <td>163200</td>\n",
              "      <td>1700000</td>\n",
              "      <td>164872.403049</td>\n",
              "      <td>1.697617e+06</td>\n",
              "      <td>164071.980755</td>\n",
              "      <td>1.692521e+06</td>\n",
              "    </tr>\n",
              "    <tr>\n",
              "      <th>12</th>\n",
              "      <td>161600</td>\n",
              "      <td>1695000</td>\n",
              "      <td>164174.292410</td>\n",
              "      <td>1.687631e+06</td>\n",
              "      <td>163199.908186</td>\n",
              "      <td>1.680775e+06</td>\n",
              "    </tr>\n",
              "    <tr>\n",
              "      <th>13</th>\n",
              "      <td>161600</td>\n",
              "      <td>1695000</td>\n",
              "      <td>165434.217014</td>\n",
              "      <td>1.681663e+06</td>\n",
              "      <td>164926.802578</td>\n",
              "      <td>1.676979e+06</td>\n",
              "    </tr>\n",
              "    <tr>\n",
              "      <th>14</th>\n",
              "      <td>160800</td>\n",
              "      <td>1690000</td>\n",
              "      <td>165670.625605</td>\n",
              "      <td>1.678360e+06</td>\n",
              "      <td>165264.751290</td>\n",
              "      <td>1.673993e+06</td>\n",
              "    </tr>\n",
              "    <tr>\n",
              "      <th>15</th>\n",
              "      <td>159200</td>\n",
              "      <td>1630000</td>\n",
              "      <td>165620.562075</td>\n",
              "      <td>1.678002e+06</td>\n",
              "      <td>165199.928721</td>\n",
              "      <td>1.673524e+06</td>\n",
              "    </tr>\n",
              "    <tr>\n",
              "      <th>16</th>\n",
              "      <td>148800</td>\n",
              "      <td>1640000</td>\n",
              "      <td>146353.821536</td>\n",
              "      <td>1.651418e+06</td>\n",
              "      <td>145433.983096</td>\n",
              "      <td>1.646936e+06</td>\n",
              "    </tr>\n",
              "    <tr>\n",
              "      <th>17</th>\n",
              "      <td>115696</td>\n",
              "      <td>1635000</td>\n",
              "      <td>119850.373153</td>\n",
              "      <td>1.621466e+06</td>\n",
              "      <td>118816.508415</td>\n",
              "      <td>1.621237e+06</td>\n",
              "    </tr>\n",
              "    <tr>\n",
              "      <th>18</th>\n",
              "      <td>147200</td>\n",
              "      <td>1630000</td>\n",
              "      <td>140517.266208</td>\n",
              "      <td>1.634187e+06</td>\n",
              "      <td>140076.456462</td>\n",
              "      <td>1.633022e+06</td>\n",
              "    </tr>\n",
              "    <tr>\n",
              "      <th>19</th>\n",
              "      <td>150400</td>\n",
              "      <td>1620000</td>\n",
              "      <td>140182.950555</td>\n",
              "      <td>1.626803e+06</td>\n",
              "      <td>139675.427892</td>\n",
              "      <td>1.624687e+06</td>\n",
              "    </tr>\n",
              "    <tr>\n",
              "      <th>20</th>\n",
              "      <td>152000</td>\n",
              "      <td>1615000</td>\n",
              "      <td>142056.429010</td>\n",
              "      <td>1.620229e+06</td>\n",
              "      <td>142228.601013</td>\n",
              "      <td>1.621439e+06</td>\n",
              "    </tr>\n",
              "    <tr>\n",
              "      <th>21</th>\n",
              "      <td>136000</td>\n",
              "      <td>1605000</td>\n",
              "      <td>138282.623766</td>\n",
              "      <td>1.610488e+06</td>\n",
              "      <td>138410.249885</td>\n",
              "      <td>1.611665e+06</td>\n",
              "    </tr>\n",
              "    <tr>\n",
              "      <th>22</th>\n",
              "      <td>126240</td>\n",
              "      <td>1590000</td>\n",
              "      <td>134239.560443</td>\n",
              "      <td>1.598276e+06</td>\n",
              "      <td>134482.337107</td>\n",
              "      <td>1.600326e+06</td>\n",
              "    </tr>\n",
              "    <tr>\n",
              "      <th>23</th>\n",
              "      <td>123888</td>\n",
              "      <td>1595000</td>\n",
              "      <td>126454.932550</td>\n",
              "      <td>1.585996e+06</td>\n",
              "      <td>126953.203189</td>\n",
              "      <td>1.590876e+06</td>\n",
              "    </tr>\n",
              "    <tr>\n",
              "      <th>24</th>\n",
              "      <td>126080</td>\n",
              "      <td>1590000</td>\n",
              "      <td>133662.687262</td>\n",
              "      <td>1.588613e+06</td>\n",
              "      <td>134006.318924</td>\n",
              "      <td>1.590675e+06</td>\n",
              "    </tr>\n",
              "    <tr>\n",
              "      <th>25</th>\n",
              "      <td>151680</td>\n",
              "      <td>1600000</td>\n",
              "      <td>141865.004854</td>\n",
              "      <td>1.587811e+06</td>\n",
              "      <td>142649.967018</td>\n",
              "      <td>1.590349e+06</td>\n",
              "    </tr>\n",
              "    <tr>\n",
              "      <th>26</th>\n",
              "      <td>152800</td>\n",
              "      <td>1610000</td>\n",
              "      <td>152694.647837</td>\n",
              "      <td>1.593000e+06</td>\n",
              "      <td>153834.727000</td>\n",
              "      <td>1.595212e+06</td>\n",
              "    </tr>\n",
              "  </tbody>\n",
              "</table>\n",
              "</div>\n",
              "      <button class=\"colab-df-convert\" onclick=\"convertToInteractive('df-66e8bf11-aa97-4501-92b8-d0f10197950f')\"\n",
              "              title=\"Convert this dataframe to an interactive table.\"\n",
              "              style=\"display:none;\">\n",
              "        \n",
              "  <svg xmlns=\"http://www.w3.org/2000/svg\" height=\"24px\"viewBox=\"0 0 24 24\"\n",
              "       width=\"24px\">\n",
              "    <path d=\"M0 0h24v24H0V0z\" fill=\"none\"/>\n",
              "    <path d=\"M18.56 5.44l.94 2.06.94-2.06 2.06-.94-2.06-.94-.94-2.06-.94 2.06-2.06.94zm-11 1L8.5 8.5l.94-2.06 2.06-.94-2.06-.94L8.5 2.5l-.94 2.06-2.06.94zm10 10l.94 2.06.94-2.06 2.06-.94-2.06-.94-.94-2.06-.94 2.06-2.06.94z\"/><path d=\"M17.41 7.96l-1.37-1.37c-.4-.4-.92-.59-1.43-.59-.52 0-1.04.2-1.43.59L10.3 9.45l-7.72 7.72c-.78.78-.78 2.05 0 2.83L4 21.41c.39.39.9.59 1.41.59.51 0 1.02-.2 1.41-.59l7.78-7.78 2.81-2.81c.8-.78.8-2.07 0-2.86zM5.41 20L4 18.59l7.72-7.72 1.47 1.35L5.41 20z\"/>\n",
              "  </svg>\n",
              "      </button>\n",
              "      \n",
              "  <style>\n",
              "    .colab-df-container {\n",
              "      display:flex;\n",
              "      flex-wrap:wrap;\n",
              "      gap: 12px;\n",
              "    }\n",
              "\n",
              "    .colab-df-convert {\n",
              "      background-color: #E8F0FE;\n",
              "      border: none;\n",
              "      border-radius: 50%;\n",
              "      cursor: pointer;\n",
              "      display: none;\n",
              "      fill: #1967D2;\n",
              "      height: 32px;\n",
              "      padding: 0 0 0 0;\n",
              "      width: 32px;\n",
              "    }\n",
              "\n",
              "    .colab-df-convert:hover {\n",
              "      background-color: #E2EBFA;\n",
              "      box-shadow: 0px 1px 2px rgba(60, 64, 67, 0.3), 0px 1px 3px 1px rgba(60, 64, 67, 0.15);\n",
              "      fill: #174EA6;\n",
              "    }\n",
              "\n",
              "    [theme=dark] .colab-df-convert {\n",
              "      background-color: #3B4455;\n",
              "      fill: #D2E3FC;\n",
              "    }\n",
              "\n",
              "    [theme=dark] .colab-df-convert:hover {\n",
              "      background-color: #434B5C;\n",
              "      box-shadow: 0px 1px 3px 1px rgba(0, 0, 0, 0.15);\n",
              "      filter: drop-shadow(0px 1px 2px rgba(0, 0, 0, 0.3));\n",
              "      fill: #FFFFFF;\n",
              "    }\n",
              "  </style>\n",
              "\n",
              "      <script>\n",
              "        const buttonEl =\n",
              "          document.querySelector('#df-66e8bf11-aa97-4501-92b8-d0f10197950f button.colab-df-convert');\n",
              "        buttonEl.style.display =\n",
              "          google.colab.kernel.accessAllowed ? 'block' : 'none';\n",
              "\n",
              "        async function convertToInteractive(key) {\n",
              "          const element = document.querySelector('#df-66e8bf11-aa97-4501-92b8-d0f10197950f');\n",
              "          const dataTable =\n",
              "            await google.colab.kernel.invokeFunction('convertToInteractive',\n",
              "                                                     [key], {});\n",
              "          if (!dataTable) return;\n",
              "\n",
              "          const docLinkHtml = 'Like what you see? Visit the ' +\n",
              "            '<a target=\"_blank\" href=https://colab.research.google.com/notebooks/data_table.ipynb>data table notebook</a>'\n",
              "            + ' to learn more about interactive tables.';\n",
              "          element.innerHTML = '';\n",
              "          dataTable['output_type'] = 'display_data';\n",
              "          await google.colab.output.renderOutput(dataTable, element);\n",
              "          const docLink = document.createElement('div');\n",
              "          docLink.innerHTML = docLinkHtml;\n",
              "          element.appendChild(docLink);\n",
              "        }\n",
              "      </script>\n",
              "    </div>\n",
              "  </div>\n",
              "  "
            ]
          },
          "metadata": {},
          "execution_count": 54
        }
      ]
    }
  ]
}